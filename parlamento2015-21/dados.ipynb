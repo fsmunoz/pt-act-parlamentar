{
 "cells": [
  {
   "cell_type": "markdown",
   "id": "ff495655-c6b8-4195-9a6b-c91ae05427e9",
   "metadata": {},
   "source": [
    "# Os dados\n",
    "\n",
    "```{margin} _Caveat emptor!_\n",
    "A existência de erros e omissões é uma possibilidade a não desprezar: vários foram detectados durante as fases iniciais deste projecto, e alguns nas fases finais. Dada a importância que os dados têm para todas as outras análises o impacto pode ir desde irrelevante até significativo.\n",
    "```\n",
    "A base de todos os dados é a informação disponibilizada pela Assembleia da República na secção [Dados Abertos](https://www.parlamento.pt/Cidadania/Paginas/DadosAbertos.aspx). Sobre estes são efectuadas várias transformações que resultam da selecção da informação pretendida; neste processo, e para além das decisões sobre o conteúdo a seleccionar, os dados originais são convertidos em formato tabular.\n",
    "\n",
    "As análises anteriores mostram segmentos desta informação em forma de tabelas, sempre de tamanho limitado para se enquadrar no fluxo do texto; aqui colocamos um conjunto alargado da informação de ambas as legislaturas.\n"
   ]
  },
  {
   "cell_type": "code",
   "execution_count": 141,
   "id": "95188947-847b-4547-bf91-e8e879f24d82",
   "metadata": {
    "tags": [
     "remove-cell"
    ]
   },
   "outputs": [],
   "source": [
    "import pandas as pd\n",
    "from scipy.spatial.distance import squareform\n",
    "from scipy.spatial.distance import pdist\n",
    "import scipy.spatial as sp, scipy.cluster.hierarchy as hc\n",
    "import matplotlib.pyplot as plt\n",
    "import matplotlib as mpl\n",
    "import seaborn as sns\n",
    "import numpy as np\n",
    "from IPython.core.display import display, HTML\n",
    "from plotly.offline import download_plotlyjs, init_notebook_mode, plot, iplot\n",
    "from datetime import timedelta\n",
    "#sns.set(font=\"EB Garamond\")\n",
    "sns.set_theme(style=\"whitegrid\", palette=\"pastel\")\n",
    "%matplotlib inline"
   ]
  },
  {
   "cell_type": "code",
   "execution_count": 142,
   "id": "92b081ae-2fcf-49de-8f38-d12fa9295c08",
   "metadata": {
    "tags": [
     "remove-cell"
    ]
   },
   "outputs": [],
   "source": [
    "## Get the data\n",
    "from urllib.request import urlopen\n",
    "import xml.etree.ElementTree as ET\n",
    "\n",
    "#l13_ini_url = 'https://app.parlamento.pt/webutils/docs/doc.xml?path=6148523063446f764c324679626d56304c3239775a57356b595852684c3052685a47397a51574a6c636e52766379394a626d6c6a6157463061585a686379395953556c4a4a5449775447566e61584e7359585231636d45765357357059326c6864476c3259584e5953556c4a4c6e687462413d3d&fich=IniciativasXIII.xml&Inline=true'\n",
    "#l13_ini_tree = ET.parse(urlopen(l13_ini_url))\n",
    "l13_ini_file = '../l13_ini.xml'\n",
    "l13_ini_tree = ET.parse(l13_ini_file)\n",
    "l14_ini_file = '../l14_ini.xml'\n",
    "l14_ini_tree = ET.parse(l14_ini_file)\n"
   ]
  },
  {
   "cell_type": "code",
   "execution_count": 143,
   "id": "a585eb5f-8827-49de-a11b-04d09d68351a",
   "metadata": {
    "tags": [
     "hide-input",
     "remove-cell"
    ]
   },
   "outputs": [],
   "source": [
    "from bs4 import BeautifulSoup\n",
    "import re\n",
    "import pandas as pd\n",
    "\n",
    "## Iteract through the existing dict\n",
    "def party_from_votes (votes):\n",
    "    \"\"\"\n",
    "    Determines the position of a party based on the majority position by summing all the individual votes.\n",
    "    Argument is a dictionary returned by parse_voting()\n",
    "    Returns a dictionary with the majority position of each party\n",
    "    \"\"\"\n",
    "    party_vote = {}\n",
    "    for k, v in votes.items():\n",
    "        ## Erase the name of the MP and keep the party only\n",
    "        ## only when it's not from the \"Ninsc\" group - \n",
    "        ## these need to be differentiated by name\n",
    "        if re.match(\".*\\(Ninsc\\)\" , k) is None:\n",
    "            nk = re.sub(r\".*\\((.+?)\\).*\", r\"\\1\", k)\n",
    "        else:\n",
    "            nk = k\n",
    "        ## If it's the first entry for a key, create it\n",
    "        if nk not in party_vote:\n",
    "            party_vote[nk] = [0,0,0]\n",
    "        ## Add to a specific index in a list\n",
    "        if v == \"A Favor\":\n",
    "            party_vote[nk][0] += 1\n",
    "        elif v == \"Abstenção\":\n",
    "            party_vote[nk][1] += 1\n",
    "        elif v == \"Contra\":\n",
    "            party_vote[nk][2] += 1\n",
    "    for k,v in party_vote.items():\n",
    "        party_vote[k]=[\"A Favor\", \"Abstenção\", \"Contra\"][v.index(max(v))]\n",
    "    return party_vote\n",
    "\n",
    "def parse_voting(v_str):\n",
    "    \"\"\"Parses the voting details in a string and returns a dict.\n",
    "    \n",
    "    Keyword arguments:\n",
    "    \n",
    "    v_str: a string with the description of the voting behaviour.\n",
    "    \"\"\"\n",
    "    ## Split by the HTML line break and put it in a dict\n",
    "    d = dict(x.split(':') for x in v_str.split('<BR>'))\n",
    "    ## Remove the HTML tags\n",
    "    for k, v in d.items():\n",
    "        ctext = BeautifulSoup(v, \"lxml\")\n",
    "        d[k] = ctext.get_text().strip().split(\",\")\n",
    "    ## Invert the dict to get a 1-to-1 mapping\n",
    "    ## and trim it\n",
    "    votes = {}\n",
    "    if len(v_str) < 1000:    # Naive approach but realistically speaking... works well enough.\n",
    "        for k, v in d.items():\n",
    "            for p in v:\n",
    "                if (p != ' ' and                                       # Bypass empty entries\n",
    "                    re.match(\"[0-9]+\", p.strip()) is None and           # Bypass quantified divergent voting patterns\n",
    "                    (re.match(\".*\\w +\\(.+\\)\", p.strip()) is None or     # Bypass individual votes...\n",
    "                     re.match(\".*\\(Ninsc\\)\" , p.strip()) is not None)): # ... except when coming from \"Ninsc\"\n",
    "                        #print(\"|\"+ p.strip() + \"|\" + \":\\t\" + k)\n",
    "                        votes[p.strip()] = k\n",
    "    else:  # This is a nominal vote since the size of the string is greater than 1000\n",
    "        for k, v in d.items():\n",
    "            for p in v:\n",
    "                if p != ' ':\n",
    "                    votes[p.strip()] = k\n",
    "        ## Call the auxiliary function to produce the party position based on the majority votes\n",
    "        votes = party_from_votes(votes)\n",
    "    return votes"
   ]
  },
  {
   "cell_type": "code",
   "execution_count": 144,
   "id": "d8d9911b-5cc7-4cfa-8377-d6c35adada12",
   "metadata": {
    "tags": [
     "remove-cell"
    ]
   },
   "outputs": [],
   "source": [
    "import collections\n",
    "\n",
    "def get_toplevel_desc (vid, tree):\n",
    "    \"\"\"\n",
    "    Gets the top-level title from a voting id\n",
    "    \"\"\"\n",
    "    for c in tree.find(\".//pt_gov_ar_objectos_VotacaoOut/[id='\"+ vid +\"']/../..\"):\n",
    "        if c.tag == \"assunto\":\n",
    "            return c.text\n",
    "        \n",
    "def ini_to_df(root):\n",
    "    counter=0\n",
    "\n",
    "    ## We will build a dataframe from a list of dicts\n",
    "    ## Inspired by the approach of Chris Moffitt here https://pbpython.com/pandas-list-dict.html\n",
    "    init_list = []\n",
    "\n",
    "    for voting in root.findall(\".//pt_gov_ar_objectos_VotacaoOut\"):\n",
    "        votep = voting.find('./detalhe')\n",
    "        if votep is not None:\n",
    "            init_dict = collections.OrderedDict()\n",
    "            counter +=1                 \n",
    "            init_dict['id'] = voting.find('id').text\n",
    "            ## Add the \"I\" for Type to mark this as coming from \"Iniciativas\"\n",
    "            init_dict['Tipo'] = \"I\"\n",
    "            for c in voting:\n",
    "                #if c.tag == \"id\":\n",
    "                #    init_dict['iniDes'] = get_toplevel_desc(c.text, root)\n",
    "                if c.tag == \"detalhe\":\n",
    "                    for party, vote in parse_voting(c.text).items():\n",
    "                        init_dict[party] = vote \n",
    "                elif c.tag == \"descricao\":\n",
    "                        init_dict[c.tag] = c.text\n",
    "                elif c.tag == \"ausencias\":\n",
    "                        init_dict[c.tag] = c.find(\"string\").text\n",
    "                else:\n",
    "                        init_dict[c.tag] = c.text\n",
    "            init_list.append(init_dict)\n",
    "        ## Provide progression feedback\n",
    "        print('.', end='')\n",
    "    return pd.DataFrame(init_list)\n",
    "        \n",
    "#print(counter)"
   ]
  },
  {
   "cell_type": "code",
   "execution_count": 145,
   "id": "103d3d14-3811-479f-bc4a-3665b04592bd",
   "metadata": {
    "tags": [
     "remove-cell"
    ]
   },
   "outputs": [],
   "source": [
    "def ini_to_df_ini(root):\n",
    "    counter=0\n",
    "\n",
    "    ## We will build a dataframe from a list of dicts\n",
    "    ## Inspired by the approach of Chris Moffitt here https://pbpython.com/pandas-list-dict.html\n",
    "    init_list = []\n",
    "\n",
    "    for ini in root.findall(\"pt_gov_ar_objectos_iniciativas_DetalhePesquisaIniciativasOut\"):\n",
    "        init_dict = collections.OrderedDict()\n",
    "        counter +=1\n",
    "        for c in ini:\n",
    "            if c.tag == \"iniAutorGruposParlamentares\":\n",
    "                if c.find('pt_gov_ar_objectos_AutoresGruposParlamentaresOut/GP') is not None:\n",
    "                    init_dict[c.tag] = c.find('pt_gov_ar_objectos_AutoresGruposParlamentaresOut/GP').text\n",
    "            else:\n",
    "                init_dict[c.tag] = c.text\n",
    "        init_list.append(init_dict)\n",
    "\n",
    "        ## Provide progression feedback\n",
    "        #print('.', end='')\n",
    "    return pd.DataFrame(init_list)\n",
    "        \n",
    "#print(counter)"
   ]
  },
  {
   "cell_type": "code",
   "execution_count": 146,
   "id": "c0dfccb3-d8dc-4a0c-92ba-41240825ca37",
   "metadata": {
    "tags": [
     "remove-cell"
    ]
   },
   "outputs": [],
   "source": [
    "from scipy.spatial.distance import squareform\n",
    "from scipy.spatial.distance import pdist\n",
    "import scipy.spatial as sp, scipy.cluster.hierarchy as hc\n",
    "from itables import show\n",
    "from scipy.cluster.hierarchy import dendrogram\n",
    "\n",
    "def political_distance_matrix(vdf,plist):\n",
    "    vdf = vdf[plist]\n",
    "    vdf = vdf.replace([\"A Favor\", \"Contra\", \"Abstenção\", \"Ausência\"], [1,-1,0,0]).fillna(0)\n",
    "    ## Transpose the dataframe used for the heatmap\n",
    "    vdf_votes_t = vdf.transpose()\n",
    "\n",
    "    ## Determine the Eucledian pairwise distance\n",
    "    ## (\"euclidean\" is actually the default option)\n",
    "    pwdist = pdist(vdf_votes_t, metric='euclidean')\n",
    "\n",
    "    ## Create a square dataframe with the pairwise distances: the distance matrix\n",
    "    distmat = pd.DataFrame(\n",
    "        squareform(pwdist), # pass a symmetric distance matrix\n",
    "        columns = vdf_votes_t.index,\n",
    "        index = vdf_votes_t.index\n",
    "    )\n",
    "    return distmat\n",
    "    #return ((distmat-distmat.min().min())/(distmat.max().max()-distmat.min().min()))*1\n",
    "\n",
    "def political_pwdist(vdf,plist):\n",
    "    vdf = vdf[plist]\n",
    "    vdf = vdf.replace([\"A Favor\", \"Contra\", \"Abstenção\", \"Ausência\"], [1,-1,0,0]).fillna(0)\n",
    "    ## Transpose the dataframe used for the heatmap\n",
    "    vdf_votes_t = vdf.transpose()\n",
    "\n",
    "    ## Determine the Eucledian pairwise distance\n",
    "    ## (\"euclidean\" is actually the default option)\n",
    "    pwdist = pdist(vdf_votes_t, metric='euclidean')\n",
    "    return pwdist\n",
    "    #return ((distmat-distmat.min().min())/(distmat.max().max()-distmat.min().min()))*1\n",
    "    \n",
    "def political_distance_clustermap(vdf, plist, subtitle, size, pal):\n",
    "    vdf = vdf[plist]\n",
    "    vdf = vdf.replace([\"A Favor\", \"Contra\", \"Abstenção\", \"Ausência\"], [1,-1,0,0]).fillna(0)\n",
    "    ## Perform hierarchical linkage on the distance matrix using Ward's method.\n",
    "    distmat= political_distance_matrix(vdf,plist)\n",
    "    pwdist = political_pwdist(vdf,plist)\n",
    "    distmat_link = hc.linkage(pwdist, method=\"ward\", optimal_ordering=True )\n",
    "    fig = sns.clustermap(\n",
    "        distmat,\n",
    "        annot = True,\n",
    "        cmap=sns.color_palette(pal),\n",
    "        linewidth=1,\n",
    "        #standard_scale=1,\n",
    "        row_linkage=distmat_link,\n",
    "        col_linkage=distmat_link,\n",
    "        #fmt=\".0%\",\n",
    "        figsize=size,\n",
    "        \n",
    "    ).fig.suptitle(subtitle,y=1)\n",
    "    return fig\n",
    "    #plt.show()\n",
    "\n",
    "def political_linkage(vdf,plist):\n",
    "    vdf = vdf[plist]\n",
    "    distmat= political_distance_matrix(vdf,plist)\n",
    "    pwdist = political_pwdist(vdf,plist)\n",
    "    distmat_link = hc.linkage(pwdist, method=\"ward\", optimal_ordering=True)\n",
    "    return distmat_link\n",
    "\n",
    "def political_dendogram(vdf, plist, subtitle):\n",
    "    vdf = vdf[plist]\n",
    "\n",
    "    fig = plt.figure(figsize=(8,5))\n",
    "    dendrogram(political_linkage(vdf,plist), labels=vdf.columns)\n",
    "    plt.title(subtitle)\n",
    "    plt.show()\n",
    "    \n",
    "def political_heatmap(vdf,plist,title):\n",
    "    vdf_hmn = vdf[plist].replace([\"A Favor\", \"Contra\", \"Abstenção\", \"Ausência\"], [1,-1,0,2]).fillna(0)\n",
    "    voting_palette = [\"#FB6962\",\"#FCFC99\",\"#79DE79\"]\n",
    "    fig = plt.figure(figsize=(8,8))\n",
    "    sns.heatmap(vdf_hmn,\n",
    "                square=False,\n",
    "                yticklabels = False,\n",
    "                cbar=False,\n",
    "                cmap=sns.color_palette(voting_palette),\n",
    "               )\n",
    "    plt.title(title)\n",
    "    plt.show()"
   ]
  },
  {
   "cell_type": "code",
   "execution_count": 147,
   "id": "3c8e2404-e94a-4ab3-aaea-45528aea2d67",
   "metadata": {
    "tags": [
     "remove-cell"
    ]
   },
   "outputs": [],
   "source": [
    "l13_parties = ['BE', 'PCP' ,'PEV', 'PS', 'PAN', 'PSD','CDS-PP']\n",
    "l14_parties = ['BE', 'PCP', 'PEV', 'L/JKM', 'PS', 'PAN','PAN/CR','PSD','IL','CDS-PP', 'CH']"
   ]
  },
  {
   "cell_type": "code",
   "execution_count": 148,
   "id": "314d52ac-5c0d-4c19-b8cc-8d05587a7d93",
   "metadata": {
    "tags": [
     "remove-cell"
    ]
   },
   "outputs": [],
   "source": [
    "l13_ini_df = ini_to_df(l13_ini_tree)\n",
    "l14_ini_df = ini_to_df(l14_ini_tree)"
   ]
  },
  {
   "cell_type": "code",
   "execution_count": 149,
   "id": "f8248edc-c16f-4f50-9692-df031f66722d",
   "metadata": {
    "tags": [
     "remove-input",
     "remove-cell"
    ]
   },
   "outputs": [],
   "source": [
    "## Copy Livre voting record to new aggregate columns...\n",
    "l14_ini_df[\"L/JKM\"] = l14_ini_df[\"L\"]\n",
    "## ... and fill the NAs with JKM voting record.\n",
    "l14_ini_df[\"L/JKM\"] = l14_ini_df[\"L/JKM\"].fillna(l14_ini_df[\"Joacine Katar Moreira (Ninsc)\"])\n",
    "l14_ini_df[[\"descricao\",\"L\",\"Joacine Katar Moreira (Ninsc)\",\"L/JKM\"]]\n",
    "## Copy PAN voting record to new aggregate columns...\n",
    "l14_ini_df[\"PAN/CR\"] = l14_ini_df[\"PAN\"]\n",
    "## ... and update/replace with CR voting where it exists\n",
    "l14_ini_df[\"PAN/CR\"].update(l14_ini_df[\"Cristina Rodrigues (Ninsc)\"])\n",
    "l14_ini_df[[\"descricao\",\"PAN\",\"Cristina Rodrigues (Ninsc)\",\"PAN/CR\"]]\n",
    "\n",
    "l14_votes = l14_ini_df\n",
    "l14_votes['data']= pd.to_datetime(l14_votes['data'])\n",
    "l14_votes['ano'] = pd.DatetimeIndex(l14_votes['data']).year\n",
    "l14_votes['leg'] = 14\n",
    "l14_votes_hm=l14_votes[l14_parties]\n",
    "l14_votes_nu = l14_votes[l14_votes[\"unanime\"] != \"unanime\"]\n",
    "l14_votes_nu_hm=l14_votes_nu[l14_parties]\n",
    "l14_min_date=min(l14_votes[\"data\"])"
   ]
  },
  {
   "cell_type": "code",
   "execution_count": 150,
   "id": "edc3fced-a736-4935-ac02-a50dc545e9d4",
   "metadata": {
    "tags": [
     "remove-cell"
    ]
   },
   "outputs": [],
   "source": [
    "l13_votes = l13_ini_df\n",
    "l13_votes['data']= pd.to_datetime(l13_votes['data'])\n",
    "l13_votes['ano'] = pd.DatetimeIndex(l13_votes['data']).year\n",
    "l13_votes['leg'] = 13\n",
    "l13_min_date=min(l13_votes[\"data\"])\n",
    "l13_max_date=l14_min_date - timedelta(1)\n",
    "l13_votes = l13_votes[(l13_votes['data'] <= l13_max_date)]\n",
    "l13_votes_hm=l13_votes[l13_parties]\n",
    "l13_votes_nu = l13_votes[l13_votes[\"unanime\"] != \"unanime\"]\n",
    "l13_votes_nu_hm=l13_votes_nu[l13_parties]"
   ]
  },
  {
   "cell_type": "code",
   "execution_count": 151,
   "id": "b4943729-ffe3-4650-9df0-88d8b44f2b88",
   "metadata": {
    "tags": [
     "remove-cell"
    ]
   },
   "outputs": [],
   "source": [
    "l13_table = l13_votes[[\"id\", \"data\",\"leg\",\"Tipo\", \"descricao\", \"ausencias\",\"tipoReuniao\", \"unanime\"] + l13_parties]\n",
    "l14_table = l14_votes[[\"id\", \"data\",\"leg\",\"Tipo\", \"descricao\", \"ausencias\",\"tipoReuniao\", \"unanime\"] + l14_parties]"
   ]
  },
  {
   "cell_type": "code",
   "execution_count": 152,
   "id": "02857353-918c-4e6d-a8a4-2fc9c95e856f",
   "metadata": {
    "tags": [
     "remove-cell"
    ]
   },
   "outputs": [
    {
     "data": {
      "text/plain": [
       "Index(['id', 'Tipo', 'resultado', 'descricao', 'reuniao', 'tipoReuniao', 'PS',\n",
       "       'BE', 'CDS-PP', 'PCP', 'PEV', 'PAN', 'PSD', 'data', 'unanime',\n",
       "       'publicacao', 'ausencias', 'Paulo Trigo Pereira (Ninsc)', '2-PS',\n",
       "       '32-PS', '10-CDS-PP', '80-PSD', '25-PS', '1-CDS-PP', '15-PCP', '2-PEV',\n",
       "       '1-PAN', '43-PS', '18-BE', '8-CDS-PP', '12-PS', 'IL',\n",
       "       'Cristina Rodrigues (Ninsc)', 'CH', 'Joacine Katar Moreira (Ninsc)',\n",
       "       'L', 'ano', 'leg'],\n",
       "      dtype='object')"
      ]
     },
     "execution_count": 152,
     "metadata": {},
     "output_type": "execute_result"
    }
   ],
   "source": [
    "l13_votes.columns"
   ]
  },
  {
   "cell_type": "code",
   "execution_count": 153,
   "id": "c73372a5-7a0e-4245-b6b8-e2acd89f1fe4",
   "metadata": {
    "tags": [
     "remove-cell"
    ]
   },
   "outputs": [],
   "source": [
    "all_votes=l14_table.append(l13_table)\n",
    "all_votes=l13_table.merge(l13_table,how=\"outer\")\n",
    "all_votes = pd.merge(l13_table, l14_table, how=\"outer\")\n",
    "dates = pd.to_datetime(pd.Series(['20010101', '20010331']), format = '%Y%m%d')\n",
    "dates.apply(lambda x: x.strftime('%Y-%m-%d'))"
   ]
  },
  {
   "cell_type": "code",
   "execution_count": null,
   "id": "1d19ee37-2cc3-422d-b421-3ab9a6ca3d80",
   "metadata": {
    "tags": [
     "full-width",
     "remove-input"
    ]
   },
   "outputs": [
    {
     "data": {
      "text/html": [
       "\n",
       "<script type=\"text/javascript\" src=\"https://unpkg.com/tabulator-tables@5.0.7/dist/js/tabulator.min.js\"></script>\n",
       "<div id=\"example-table\"></div>\n",
       "<script>\n",
       "var table = new Tabulator(\"#example-table\", {\n",
       "    pagination:\"local\",\n",
       "    ajaxURL:\"http://localhost:8889/lab/tree/src/pt-act-parlamentar/parlamento2015-19/all_votes.json\", //ajax URL\n",
       "});\n",
       "\n",
       "</script>\n"
      ],
      "text/plain": [
       "<IPython.core.display.HTML object>"
      ]
     },
     "metadata": {},
     "output_type": "display_data"
    }
   ],
   "source": [
    "from IPython.display import display, HTML\n",
    "js = '''\n",
    "<div>\n",
    "    <button id=\"download-csv\">Download CSV</button>\n",
    "    <button id=\"download-json\">Download JSON</button>\n",
    "</div>\n",
    "\n",
    "<div id=\"example-table\"></div>\n",
    "<script>\n",
    "var table = new Tabulator(\"#example-table\", {\n",
    "    pagination:\"local\",\n",
    "    responsiveLayout:true,\n",
    "    paginationSize:20,         //allow 20 rows per page of data\n",
    "    movableColumns:true,      //allow column order to be changed\n",
    "    resizableRows:true,       //allow row order to be changed\n",
    "    autoColumns:true,\n",
    "    layout:\"fitColumns\",\n",
    "   // ajaxURL:\"http://0.0.0.0:8000/all_votes.json\", //ajax URL\n",
    "    ajaxURL:\"./all_votes.json\", //ajax URL\n",
    "});\n",
    "\n",
    "//trigger download of data.csv file\n",
    "document.getElementById(\"download-csv\").addEventListener(\"click\", function(){\n",
    "    table.download(\"csv\", \"data.csv\");\n",
    "});\n",
    "\n",
    "//trigger download of data.json file\n",
    "document.getElementById(\"download-json\").addEventListener(\"click\", function(){\n",
    "    table.download(\"json\", \"data.json\");\n",
    "});\n",
    "\n",
    "</script>\n",
    "'''\n",
    "display(HTML(js))"
   ]
  }
 ],
 "metadata": {
  "kernelspec": {
   "display_name": "Python 3 (ipykernel)",
   "language": "python",
   "name": "python3"
  },
  "language_info": {
   "codemirror_mode": {
    "name": "ipython",
    "version": 3
   },
   "file_extension": ".py",
   "mimetype": "text/x-python",
   "name": "python",
   "nbconvert_exporter": "python",
   "pygments_lexer": "ipython3",
   "version": "3.8.12"
  }
 },
 "nbformat": 4,
 "nbformat_minor": 5
}
