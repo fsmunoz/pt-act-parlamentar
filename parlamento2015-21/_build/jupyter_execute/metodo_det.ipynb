{
 "cells": [
  {
   "cell_type": "markdown",
   "id": "f874a01c-4ff6-42ad-8452-693ff17e290e",
   "metadata": {},
   "source": [
    "# Em maior detalhe\n",
    "\n",
    "```{epigraph}\n",
    "Em contrapartida o doido não se preocupa em ter uma lógica, procede por curto-circuitos. Para ele tudo demonstra tudo. O doido reconhece-se pela liberdade que toma em relação ao dever de prova, da sua disponibilidade para descobrir iluminações. E pode-lhe parecer estranho, mas mais tarde ou mais cedo o doido acaba por se sair com os Templários.\n",
    "\n",
    "-- Umberto Eco, «O Pêndulo de Foucault»\n",
    "```"
   ]
  },
  {
   "cell_type": "markdown",
   "id": "af5890c3-3a9b-4314-b370-53b2d13c812e",
   "metadata": {},
   "source": [
    "Nas secções que se seguem veremos em maior detalhe o que está por trás de muitos dos processos e análises efectuadas; parte dos detalhes foram sendo descritos à medida da sua utilização, mas o cuidado para não sobrecarregar o corpo principal com excessivas explicações deixa espaço para que se possa abordar alguns dos temas com maior profundidade."
   ]
  },
  {
   "cell_type": "code",
   "execution_count": null,
   "id": "91383213-7d6a-4bc1-ad0e-b75a2de30b1b",
   "metadata": {},
   "outputs": [],
   "source": []
  }
 ],
 "metadata": {
  "kernelspec": {
   "display_name": "Python 3 (ipykernel)",
   "language": "python",
   "name": "python3"
  },
  "language_info": {
   "codemirror_mode": {
    "name": "ipython",
    "version": 3
   },
   "file_extension": ".py",
   "mimetype": "text/x-python",
   "name": "python",
   "nbconvert_exporter": "python",
   "pygments_lexer": "ipython3",
   "version": "3.8.12"
  }
 },
 "nbformat": 4,
 "nbformat_minor": 5
}