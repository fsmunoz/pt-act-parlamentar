{
 "cells": [
  {
   "cell_type": "markdown",
   "id": "d584d5ab-a380-4238-b70d-0f11b9fbcc53",
   "metadata": {},
   "source": [
    "# Distâncias e matrizes\n",
    "\n",
    "A matriz de distância é feita através da utilização da função `pdist`; como já mencionado a distância euclidiana entre dois pontos $p$ e $q$ é $ d\\left( p,q\\right) = \\sqrt {\\sum _{i=1}^{n}  \\left( q_{i}-p_{i}\\right)^2 }$, para $n$ dimensões. De forma a facilitar a intuição de como esta distância é aplicada ao registo de votações vamos, passo a passo, analisar um caso simplificado (o que nos serve também de forma de validação indirecta do processo).\n",
    "\n",
    "Vamos criar um cenário com três partidos, com nomes que reflectem o seu perfil de votação:\n",
    "\n",
    "* O Partido Favorável vota a favor.\n",
    "* O Partido Abstencionista abstem-se (pelo menos até certo ponto).\n",
    "* O Partido do Contra vota contra.\n",
    "\n",
    "## Uma votação, $ n = 1 $\n",
    "\n",
    "Começemos por uma única votação, onde cada um dos partidos segue a sua linha programática:"
   ]
  },
  {
   "cell_type": "code",
   "execution_count": 1,
   "id": "5d6922b6-0af3-4a24-95d7-65125870c69f",
   "metadata": {
    "tags": [
     "remove-cell"
    ]
   },
   "outputs": [],
   "source": [
    "import pandas as pd\n",
    "from scipy.spatial.distance import squareform\n",
    "from scipy.spatial.distance import pdist\n",
    "import matplotlib.pyplot as plt\n",
    "import matplotlib as mpl\n",
    "import seaborn as sns\n",
    "import scipy.spatial as sp, scipy.cluster.hierarchy as hc\n",
    "%matplotlib inline"
   ]
  },
  {
   "cell_type": "code",
   "execution_count": 2,
   "id": "a700b273-fd4f-4cf4-a5eb-7e2d21e7a12f",
   "metadata": {
    "tags": [
     "hide-input"
    ]
   },
   "outputs": [
    {
     "data": {
      "text/html": [
       "<div>\n",
       "<style scoped>\n",
       "    .dataframe tbody tr th:only-of-type {\n",
       "        vertical-align: middle;\n",
       "    }\n",
       "\n",
       "    .dataframe tbody tr th {\n",
       "        vertical-align: top;\n",
       "    }\n",
       "\n",
       "    .dataframe thead th {\n",
       "        text-align: right;\n",
       "    }\n",
       "</style>\n",
       "<table border=\"1\" class=\"dataframe\">\n",
       "  <thead>\n",
       "    <tr style=\"text-align: right;\">\n",
       "      <th></th>\n",
       "      <th>v1</th>\n",
       "    </tr>\n",
       "  </thead>\n",
       "  <tbody>\n",
       "    <tr>\n",
       "      <th>F</th>\n",
       "      <td>1</td>\n",
       "    </tr>\n",
       "    <tr>\n",
       "      <th>A</th>\n",
       "      <td>0</td>\n",
       "    </tr>\n",
       "    <tr>\n",
       "      <th>C</th>\n",
       "      <td>-1</td>\n",
       "    </tr>\n",
       "  </tbody>\n",
       "</table>\n",
       "</div>"
      ],
      "text/plain": [
       "   v1\n",
       "F   1\n",
       "A   0\n",
       "C  -1"
      ]
     },
     "execution_count": 2,
     "metadata": {},
     "output_type": "execute_result"
    }
   ],
   "source": [
    "\n",
    "v1=[[1],[0],[-1]]\n",
    "v1_df = pd.DataFrame(v1, columns=[\"v1\"], index=[\"F\",\"A\", \"C\"])\n",
    "v1_df"
   ]
  },
  {
   "cell_type": "markdown",
   "id": "5370bdc2-4897-4b15-a9d1-06dac42d918c",
   "metadata": {},
   "source": [
    "Com uma única votação o número de dimensões é de $n = 1$ e é bastante intuitivo que a distância entre eles é a  _norma_:$ d\\left( x,y\\right)   = | x - y |$; entre 1 e 0 a distância é 1, entre 1 e -1 a distância é 2, etc. Para $ n = 1 $ a distância euclidiana é equivalente à norma, pois $ \\sqrt{\\left( q - p\\right)^2} = | q - p | $, como pode ser observado quando medidas a distância entre eles:"
   ]
  },
  {
   "cell_type": "code",
   "execution_count": 3,
   "id": "bfff6d6b-1909-4d07-af49-7e9f335697dc",
   "metadata": {},
   "outputs": [
    {
     "name": "stdout",
     "output_type": "stream",
     "text": [
      "Distance from F and A = 1.0\n",
      "Distance from F and C = 2.0\n",
      "Distance from A and C = 1.0\n"
     ]
    }
   ],
   "source": [
    "import math\n",
    "## We could also sue the array directly, e.g.\n",
    "## print(\"Distance from\" , a[0][0] , \"and\" , a[1][0],\"=\",math.sqrt((a[0][0]-a[1][0]) ** 2))\n",
    "\n",
    "print(\"Distance from\", v1_df.loc[\"F\"].name, \"and\", v1_df.loc[\"A\"].name, \"=\", \n",
    "      math.sqrt((v1_df.loc[\"F\"][\"v1\"]-v1_df.loc[\"A\"][\"v1\"]) ** 2))\n",
    "print(\"Distance from\", v1_df.loc[\"F\"].name, \"and\", v1_df.loc[\"C\"].name, \"=\", \n",
    "      math.sqrt((v1_df.loc[\"F\"][\"v1\"]-v1_df.loc[\"C\"][\"v1\"]) ** 2))\n",
    "print(\"Distance from\", v1_df.loc[\"A\"].name, \"and\", v1_df.loc[\"C\"].name, \"=\", \n",
    "      math.sqrt((v1_df.loc[\"A\"][\"v1\"]-v1_df.loc[\"C\"][\"v1\"]) ** 2))"
   ]
  },
  {
   "cell_type": "markdown",
   "id": "93c80c04-2193-4e60-93ff-baed8dbb59af",
   "metadata": {},
   "source": [
    "Temos a distância entre os três possíveis pares: a distância entre _F_ e _A_ é idêntica à distância entre _A_ e _F_. Isto é importante porque ajuda a explicar a diferença entre a forma \"condensada\" e forma \"quadrada\". A função `pdist` retorna a distância entre os vários pares na forma _condensada_:"
   ]
  },
  {
   "cell_type": "code",
   "execution_count": 4,
   "id": "cd9ab62b-e28c-4553-b6dd-450a31789ef8",
   "metadata": {},
   "outputs": [
    {
     "data": {
      "text/plain": [
       "array([1., 2., 1.])"
      ]
     },
     "execution_count": 4,
     "metadata": {},
     "output_type": "execute_result"
    }
   ],
   "source": [
    "pdist(v1_df)"
   ]
  },
  {
   "cell_type": "markdown",
   "id": "0fb3cbd8-5b81-4d5b-8b8c-fa8f7edfdc02",
   "metadata": {},
   "source": [
    "Estes são os mesmos valores que obtivemos de forma manual, e é isso que a função faz: calcula uma determinada distância (euclidiana, neste caso e por omissão) entre todos os pares possíveis, sem que seja necessário especificarmos todas as combinações possíveis.\n",
    "\n",
    "Este formato condensado não é o que permite uma leitura mais imediata, e para tal existe a função `squareform` que apresenta os mesmos resultados mas numa matriz simétrica:"
   ]
  },
  {
   "cell_type": "code",
   "execution_count": 5,
   "id": "04901a6d-c126-4c13-9524-be5e034d910b",
   "metadata": {},
   "outputs": [
    {
     "data": {
      "text/plain": [
       "array([[0., 1., 2.],\n",
       "       [1., 0., 1.],\n",
       "       [2., 1., 0.]])"
      ]
     },
     "execution_count": 5,
     "metadata": {},
     "output_type": "execute_result"
    }
   ],
   "source": [
    "squareform(pdist(v1_df))"
   ]
  },
  {
   "cell_type": "markdown",
   "id": "64e12547-b3b8-41a1-a510-089aa33fde03",
   "metadata": {},
   "source": [
    "Em formato tabular torna-se ainda mais claro... e isto é exactmante a matriz de distância usada para o mapa térmico"
   ]
  },
  {
   "cell_type": "code",
   "execution_count": 6,
   "id": "c24ed07d-efc2-4a05-b64f-36e7fe6a3a8f",
   "metadata": {
    "tags": [
     "hide-input"
    ]
   },
   "outputs": [
    {
     "data": {
      "text/html": [
       "<div>\n",
       "<style scoped>\n",
       "    .dataframe tbody tr th:only-of-type {\n",
       "        vertical-align: middle;\n",
       "    }\n",
       "\n",
       "    .dataframe tbody tr th {\n",
       "        vertical-align: top;\n",
       "    }\n",
       "\n",
       "    .dataframe thead th {\n",
       "        text-align: right;\n",
       "    }\n",
       "</style>\n",
       "<table border=\"1\" class=\"dataframe\">\n",
       "  <thead>\n",
       "    <tr style=\"text-align: right;\">\n",
       "      <th></th>\n",
       "      <th>F</th>\n",
       "      <th>A</th>\n",
       "      <th>C</th>\n",
       "    </tr>\n",
       "  </thead>\n",
       "  <tbody>\n",
       "    <tr>\n",
       "      <th>F</th>\n",
       "      <td>0.0</td>\n",
       "      <td>1.0</td>\n",
       "      <td>2.0</td>\n",
       "    </tr>\n",
       "    <tr>\n",
       "      <th>A</th>\n",
       "      <td>1.0</td>\n",
       "      <td>0.0</td>\n",
       "      <td>1.0</td>\n",
       "    </tr>\n",
       "    <tr>\n",
       "      <th>C</th>\n",
       "      <td>2.0</td>\n",
       "      <td>1.0</td>\n",
       "      <td>0.0</td>\n",
       "    </tr>\n",
       "  </tbody>\n",
       "</table>\n",
       "</div>"
      ],
      "text/plain": [
       "     F    A    C\n",
       "F  0.0  1.0  2.0\n",
       "A  1.0  0.0  1.0\n",
       "C  2.0  1.0  0.0"
      ]
     },
     "execution_count": 6,
     "metadata": {},
     "output_type": "execute_result"
    }
   ],
   "source": [
    "v1_distmat=pd.DataFrame(squareform(pdist(v1)), columns=v1_df.index, index=v1_df.index)\n",
    "v1_distmat"
   ]
  },
  {
   "cell_type": "markdown",
   "id": "7d704a10-fb21-4ff8-bbae-3b4334ac063f",
   "metadata": {},
   "source": [
    "Geometricamente temos pontos numa recta: uma análise das distâncias entre os três partidos com base no histórico de votação seria simples de visualizar com base na posição desses pontos:"
   ]
  },
  {
   "cell_type": "code",
   "execution_count": 7,
   "id": "4e12afca-8a6f-4f95-9425-7ef22dc38ef9",
   "metadata": {
    "tags": [
     "hide-input"
    ]
   },
   "outputs": [
    {
     "data": {
      "image/png": "[encoded data removed]",
      "text/plain": [
       "<Figure size 432x288 with 1 Axes>"
      ]
     },
     "metadata": {
      "filenames": {
       "image/png": "/home/frmuno/src/pt-act-parlamentar/parlamento2015-21/_build/jupyter_execute/met_distmat_12_0.png"
      },
      "needs_background": "light"
     },
     "output_type": "display_data"
    }
   ],
   "source": [
    "fig, ax = plt.subplots()\n",
    "ax.axhline(y=0,c=\"gold\",zorder=-1)\n",
    "\n",
    "for x in v1_df[\"v1\"]:\n",
    "    ax.scatter(x,y=0,)\n",
    "plt.show()"
   ]
  },
  {
   "cell_type": "markdown",
   "id": "70e7fde0-3440-4afd-a71b-6b5cbb24b538",
   "metadata": {},
   "source": [
    "Com base na matriz de distância contruimos o mapa térmico de forma muito simples:"
   ]
  },
  {
   "cell_type": "code",
   "execution_count": 8,
   "id": "ab76d624-eec0-420c-b354-14f963bc52cd",
   "metadata": {
    "tags": [
     "hide-input"
    ]
   },
   "outputs": [
    {
     "data": {
      "image/png": "[encoded data removed]",
      "text/plain": [
       "<Figure size 288x288 with 2 Axes>"
      ]
     },
     "metadata": {
      "filenames": {
       "image/png": "/home/frmuno/src/pt-act-parlamentar/parlamento2015-21/_build/jupyter_execute/met_distmat_14_0.png"
      },
      "needs_background": "light"
     },
     "output_type": "display_data"
    }
   ],
   "source": [
    "plt.figure(figsize=(4,4))\n",
    "sns.heatmap(\n",
    "    v1_distmat,\n",
    "    cmap=sns.color_palette(\"Reds_r\"),\n",
    "    linewidth=1,\n",
    "    annot = True,\n",
    "    square =True,\n",
    ")\n",
    "plt.show()"
   ]
  },
  {
   "cell_type": "markdown",
   "id": "725e0a08-e104-49e5-b44f-27407486170b",
   "metadata": {},
   "source": [
    "...e o agrupamento com base nessa matriz:"
   ]
  },
  {
   "cell_type": "code",
   "execution_count": 9,
   "id": "3bf08cfb-3e1d-432d-902c-91b3281a6054",
   "metadata": {
    "tags": [
     "hide-input"
    ]
   },
   "outputs": [
    {
     "data": {
      "image/png": "[encoded data removed]",
      "text/plain": [
       "<Figure size 288x288 with 4 Axes>"
      ]
     },
     "metadata": {
      "filenames": {
       "image/png": "/home/frmuno/src/pt-act-parlamentar/parlamento2015-21/_build/jupyter_execute/met_distmat_16_0.png"
      },
      "needs_background": "light"
     },
     "output_type": "display_data"
    }
   ],
   "source": [
    "v1_distmat_link = hc.linkage(pdist(v1_df))\n",
    "\n",
    "sns.clustermap(\n",
    "    v1_distmat,\n",
    "    annot = True,\n",
    "    cmap=sns.color_palette(\"Reds_r\"),\n",
    "    linewidth=1,\n",
    "    row_linkage=v1_distmat_link,\n",
    "    col_linkage=v1_distmat_link,\n",
    "    figsize=(4,4)\n",
    ")\n",
    "plt.show()"
   ]
  },
  {
   "cell_type": "markdown",
   "id": "c07c4387-3736-414f-abe9-a4fe217eb39f",
   "metadata": {
    "tags": []
   },
   "source": [
    "## Duas votações, $ n = 2 $\n",
    "\n",
    "Usando a mesma abordagem (agora sem necessidade de explicações adicionais) adicionamos mais uma votação, sempre em linha com o perfil fixo de votos de cada um: cada partido passa a ter dois votos, logo temos duas dimensões:"
   ]
  },
  {
   "cell_type": "code",
   "execution_count": 10,
   "id": "3d18e4dd-4f8f-48a7-bd60-7d406e2cf24d",
   "metadata": {
    "tags": [
     "hide-input"
    ]
   },
   "outputs": [
    {
     "data": {
      "text/html": [
       "<div>\n",
       "<style scoped>\n",
       "    .dataframe tbody tr th:only-of-type {\n",
       "        vertical-align: middle;\n",
       "    }\n",
       "\n",
       "    .dataframe tbody tr th {\n",
       "        vertical-align: top;\n",
       "    }\n",
       "\n",
       "    .dataframe thead th {\n",
       "        text-align: right;\n",
       "    }\n",
       "</style>\n",
       "<table border=\"1\" class=\"dataframe\">\n",
       "  <thead>\n",
       "    <tr style=\"text-align: right;\">\n",
       "      <th></th>\n",
       "      <th>v1</th>\n",
       "      <th>v2</th>\n",
       "    </tr>\n",
       "  </thead>\n",
       "  <tbody>\n",
       "    <tr>\n",
       "      <th>F</th>\n",
       "      <td>1</td>\n",
       "      <td>1</td>\n",
       "    </tr>\n",
       "    <tr>\n",
       "      <th>A</th>\n",
       "      <td>0</td>\n",
       "      <td>0</td>\n",
       "    </tr>\n",
       "    <tr>\n",
       "      <th>C</th>\n",
       "      <td>-1</td>\n",
       "      <td>-1</td>\n",
       "    </tr>\n",
       "  </tbody>\n",
       "</table>\n",
       "</div>"
      ],
      "text/plain": [
       "   v1  v2\n",
       "F   1   1\n",
       "A   0   0\n",
       "C  -1  -1"
      ]
     },
     "execution_count": 10,
     "metadata": {},
     "output_type": "execute_result"
    }
   ],
   "source": [
    "v2=[[1,1],[0,0],[-1,-1]]\n",
    "v2_df = pd.DataFrame(v2, columns=[\"v1\",\"v2\"], index=[\"F\",\"A\", \"C\"])\n",
    "v2_df"
   ]
  },
  {
   "cell_type": "markdown",
   "id": "7af1d05d-6256-4c9c-90c1-ec4d760d2bd4",
   "metadata": {},
   "source": [
    "A distância euclidiana é agora feita de forma mais genérica: a raíz quadrada da soma do quadrado das diferenças: para a primeira diferença isto significa, passo a passo e para $q=F$ e $p=A$:\n",
    "\n",
    "$ d\\left(q,p\\right)   = \\sqrt {\\sum _{i=1}^{n}  \\left( q_{i}-p_{i}\\right)^2 } = \\sqrt{\\left( q_{1}-p_{1}\\right)^2  + \\left( q_{2}-p_{2}\\right)^2 } = \\sqrt{\\left( 1 - 0\\right)^2 + \\left( 1 - 0\\right)^2} = \\sqrt{ 1^2  + 1^2 } = \\sqrt{1+1} = \\sqrt{2} \\approx  1.4142135623730951 $\n",
    "\n",
    "E de facto:"
   ]
  },
  {
   "cell_type": "code",
   "execution_count": 11,
   "id": "99487bd1-c086-47c4-b827-85951c1d21a6",
   "metadata": {},
   "outputs": [
    {
     "name": "stdout",
     "output_type": "stream",
     "text": [
      "1.4142135623730951\n",
      "2.8284271247461903\n",
      "1.4142135623730951\n"
     ]
    }
   ],
   "source": [
    "print(math.sqrt(sum((px - qx) ** 2.0 for px, qx in zip(v2_df.loc[\"F\"],v2_df.loc[\"A\"]))))\n",
    "print(math.sqrt(sum((px - qx) ** 2.0 for px, qx in zip(v2_df.loc[\"F\"],v2_df.loc[\"C\"]))))\n",
    "print(math.sqrt(sum((px - qx) ** 2.0 for px, qx in zip(v2_df.loc[\"A\"],v2_df.loc[\"C\"]))))"
   ]
  },
  {
   "cell_type": "markdown",
   "id": "da0d8dc3-5077-41d6-8475-8f70f5998e36",
   "metadata": {},
   "source": [
    "Tal como antes é idêntico ao resultado de `pdist`, tanto na sua forma condensada como quadrada:"
   ]
  },
  {
   "cell_type": "code",
   "execution_count": 12,
   "id": "303db344-afe3-458a-8292-d71f0e2a38dc",
   "metadata": {},
   "outputs": [
    {
     "name": "stdout",
     "output_type": "stream",
     "text": [
      "pdist:\n",
      " [1.41421356 2.82842712 1.41421356] \n",
      "\n",
      "squareform:\n",
      " [[0.         1.41421356 2.82842712]\n",
      " [1.41421356 0.         1.41421356]\n",
      " [2.82842712 1.41421356 0.        ]]\n"
     ]
    },
    {
     "data": {
      "text/html": [
       "<div>\n",
       "<style scoped>\n",
       "    .dataframe tbody tr th:only-of-type {\n",
       "        vertical-align: middle;\n",
       "    }\n",
       "\n",
       "    .dataframe tbody tr th {\n",
       "        vertical-align: top;\n",
       "    }\n",
       "\n",
       "    .dataframe thead th {\n",
       "        text-align: right;\n",
       "    }\n",
       "</style>\n",
       "<table border=\"1\" class=\"dataframe\">\n",
       "  <thead>\n",
       "    <tr style=\"text-align: right;\">\n",
       "      <th></th>\n",
       "      <th>F</th>\n",
       "      <th>A</th>\n",
       "      <th>C</th>\n",
       "    </tr>\n",
       "  </thead>\n",
       "  <tbody>\n",
       "    <tr>\n",
       "      <th>F</th>\n",
       "      <td>0.000000</td>\n",
       "      <td>1.414214</td>\n",
       "      <td>2.828427</td>\n",
       "    </tr>\n",
       "    <tr>\n",
       "      <th>A</th>\n",
       "      <td>1.414214</td>\n",
       "      <td>0.000000</td>\n",
       "      <td>1.414214</td>\n",
       "    </tr>\n",
       "    <tr>\n",
       "      <th>C</th>\n",
       "      <td>2.828427</td>\n",
       "      <td>1.414214</td>\n",
       "      <td>0.000000</td>\n",
       "    </tr>\n",
       "  </tbody>\n",
       "</table>\n",
       "</div>"
      ],
      "text/plain": [
       "          F         A         C\n",
       "F  0.000000  1.414214  2.828427\n",
       "A  1.414214  0.000000  1.414214\n",
       "C  2.828427  1.414214  0.000000"
      ]
     },
     "execution_count": 12,
     "metadata": {},
     "output_type": "execute_result"
    }
   ],
   "source": [
    "print(\"pdist:\\n\", pdist(v2),\"\\n\")\n",
    "print(\"squareform:\\n\",squareform(pdist(v2)))\n",
    "v2_distmat=pd.DataFrame(squareform(pdist(v2)), columns=v2_df.index, index=v2_df.index)\n",
    "v2_distmat"
   ]
  },
  {
   "cell_type": "markdown",
   "id": "f0e516b0-9f73-4cbe-9c79-68eaebe77e07",
   "metadata": {},
   "source": [
    "Com duas votações temos $ n = 2 $ e conseguimos ver os pontos num espaço cartesiano em $ \\mathbb{R}^2 $ (um plano)."
   ]
  },
  {
   "cell_type": "code",
   "execution_count": 13,
   "id": "10d97966-11b4-4db8-b55e-175d19689249",
   "metadata": {
    "tags": [
     "hide-input"
    ]
   },
   "outputs": [
    {
     "data": {
      "image/png": "[encoded data removed]",
      "text/plain": [
       "<Figure size 432x288 with 1 Axes>"
      ]
     },
     "metadata": {
      "filenames": {
       "image/png": "/home/frmuno/src/pt-act-parlamentar/parlamento2015-21/_build/jupyter_execute/met_distmat_24_0.png"
      },
      "needs_background": "light"
     },
     "output_type": "display_data"
    }
   ],
   "source": [
    "fig, ax = plt.subplots()\n",
    "for x,y in zip(v2_df[\"v1\"], v2_df[\"v2\"]):\n",
    "    ax.scatter(x,y)"
   ]
  },
  {
   "cell_type": "markdown",
   "id": "90f3417a-9618-4b94-9d00-c7dd2c838258",
   "metadata": {},
   "source": [
    "A matriz de distância seria neste caso, como no anterior, desnecessária (em $ \\mathbb{R}^2 $ as distâncias entre os partidos são óbvias por facilmente visualizáveis); a forma de a construir é idêntica:"
   ]
  },
  {
   "cell_type": "code",
   "execution_count": 14,
   "id": "10f73f36-5ae9-4302-98ac-954f1d3d0a50",
   "metadata": {
    "tags": [
     "hide-input"
    ]
   },
   "outputs": [
    {
     "data": {
      "image/png": "[encoded data removed]",
      "text/plain": [
       "<Figure size 288x288 with 2 Axes>"
      ]
     },
     "metadata": {
      "filenames": {
       "image/png": "/home/frmuno/src/pt-act-parlamentar/parlamento2015-21/_build/jupyter_execute/met_distmat_26_0.png"
      },
      "needs_background": "light"
     },
     "output_type": "display_data"
    }
   ],
   "source": [
    "plt.figure(figsize=(4,4))\n",
    "\n",
    "sns.heatmap(\n",
    "    v2_distmat,\n",
    "    cmap=sns.color_palette(\"Reds_r\"),\n",
    "    linewidth=1,\n",
    "    annot = True,\n",
    "    square =True,\n",
    ")\n",
    "plt.show()\n"
   ]
  },
  {
   "cell_type": "markdown",
   "id": "2ea338b0-f2c5-4fae-a6da-8b38d776bcd7",
   "metadata": {},
   "source": [
    "... e o _clustermap_ que agrega distâncias e agrupamento num único gráfico:"
   ]
  },
  {
   "cell_type": "code",
   "execution_count": 15,
   "id": "6f47562e-6fec-46af-9097-7bee2a24d2c0",
   "metadata": {
    "tags": [
     "hide-input"
    ]
   },
   "outputs": [
    {
     "data": {
      "image/png": "[encoded data removed]",
      "text/plain": [
       "<Figure size 288x288 with 4 Axes>"
      ]
     },
     "metadata": {
      "filenames": {
       "image/png": "/home/frmuno/src/pt-act-parlamentar/parlamento2015-21/_build/jupyter_execute/met_distmat_28_0.png"
      },
      "needs_background": "light"
     },
     "output_type": "display_data"
    }
   ],
   "source": [
    "v2_distmat_link = hc.linkage(pdist(v2_df))\n",
    "\n",
    "sns.clustermap(\n",
    "    v2_distmat,\n",
    "    annot = True,\n",
    "    cmap=sns.color_palette(\"Reds_r\"),\n",
    "    linewidth=1,\n",
    "    row_linkage=v2_distmat_link,\n",
    "    col_linkage=v2_distmat_link,\n",
    "    figsize=(4,4)\n",
    ")\n",
    "plt.show()"
   ]
  },
  {
   "cell_type": "markdown",
   "id": "81c60161-bfee-494e-b2b2-233c4f282d25",
   "metadata": {},
   "source": [
    "## Três votações, $ n = 3 $\n",
    "\n",
    "Este é o último caso onde a visualização pode ser feita de forma directa. Consideremos:"
   ]
  },
  {
   "cell_type": "code",
   "execution_count": 16,
   "id": "b6ae1fb7-c0cc-49be-a568-0ea97d07068b",
   "metadata": {
    "tags": [
     "hide-input"
    ]
   },
   "outputs": [
    {
     "data": {
      "text/html": [
       "<div>\n",
       "<style scoped>\n",
       "    .dataframe tbody tr th:only-of-type {\n",
       "        vertical-align: middle;\n",
       "    }\n",
       "\n",
       "    .dataframe tbody tr th {\n",
       "        vertical-align: top;\n",
       "    }\n",
       "\n",
       "    .dataframe thead th {\n",
       "        text-align: right;\n",
       "    }\n",
       "</style>\n",
       "<table border=\"1\" class=\"dataframe\">\n",
       "  <thead>\n",
       "    <tr style=\"text-align: right;\">\n",
       "      <th></th>\n",
       "      <th>v1</th>\n",
       "      <th>v2</th>\n",
       "      <th>v3</th>\n",
       "    </tr>\n",
       "  </thead>\n",
       "  <tbody>\n",
       "    <tr>\n",
       "      <th>F</th>\n",
       "      <td>1</td>\n",
       "      <td>1</td>\n",
       "      <td>1</td>\n",
       "    </tr>\n",
       "    <tr>\n",
       "      <th>A</th>\n",
       "      <td>0</td>\n",
       "      <td>0</td>\n",
       "      <td>0</td>\n",
       "    </tr>\n",
       "    <tr>\n",
       "      <th>C</th>\n",
       "      <td>-1</td>\n",
       "      <td>-1</td>\n",
       "      <td>-1</td>\n",
       "    </tr>\n",
       "  </tbody>\n",
       "</table>\n",
       "</div>"
      ],
      "text/plain": [
       "   v1  v2  v3\n",
       "F   1   1   1\n",
       "A   0   0   0\n",
       "C  -1  -1  -1"
      ]
     },
     "execution_count": 16,
     "metadata": {},
     "output_type": "execute_result"
    }
   ],
   "source": [
    "v3=[[1,1,1],[0,0,0],[-1,-1,-1]]\n",
    "v3_df = pd.DataFrame(v3, columns=[\"v1\",\"v2\", \"v3\"], index=[\"F\",\"A\", \"C\"])\n",
    "v3_df"
   ]
  },
  {
   "cell_type": "markdown",
   "id": "e7cf621c-d1b9-4939-b9ec-b48cf80953cb",
   "metadata": {},
   "source": [
    "A distância é calculada da mesma forma:"
   ]
  },
  {
   "cell_type": "code",
   "execution_count": 17,
   "id": "2555178f-4521-44c0-9ae0-195565899793",
   "metadata": {},
   "outputs": [
    {
     "name": "stdout",
     "output_type": "stream",
     "text": [
      "1.7320508075688772\n",
      "3.4641016151377544\n",
      "1.7320508075688772\n"
     ]
    }
   ],
   "source": [
    "print(math.sqrt(sum((px - qx) ** 2.0 for px, qx in zip(v3_df.loc[\"F\"],v3_df.loc[\"A\"]))))\n",
    "print(math.sqrt(sum((px - qx) ** 2.0 for px, qx in zip(v3_df.loc[\"F\"],v3_df.loc[\"C\"]))))\n",
    "print(math.sqrt(sum((px - qx) ** 2.0 for px, qx in zip(v3_df.loc[\"A\"],v3_df.loc[\"C\"]))))"
   ]
  },
  {
   "cell_type": "markdown",
   "id": "fb70d621-4de6-403e-ba1f-c0f622225a39",
   "metadata": {},
   "source": [
    "... bem como a matriz de distância:"
   ]
  },
  {
   "cell_type": "code",
   "execution_count": 18,
   "id": "3a82837f-b5a0-40c4-9e67-b064ce37b118",
   "metadata": {},
   "outputs": [
    {
     "name": "stdout",
     "output_type": "stream",
     "text": [
      "pdist:\n",
      " [1.73205081 3.46410162 1.73205081] \n",
      "\n",
      "squareform:\n",
      " [[0.         1.73205081 3.46410162]\n",
      " [1.73205081 0.         1.73205081]\n",
      " [3.46410162 1.73205081 0.        ]]\n"
     ]
    },
    {
     "data": {
      "text/html": [
       "<div>\n",
       "<style scoped>\n",
       "    .dataframe tbody tr th:only-of-type {\n",
       "        vertical-align: middle;\n",
       "    }\n",
       "\n",
       "    .dataframe tbody tr th {\n",
       "        vertical-align: top;\n",
       "    }\n",
       "\n",
       "    .dataframe thead th {\n",
       "        text-align: right;\n",
       "    }\n",
       "</style>\n",
       "<table border=\"1\" class=\"dataframe\">\n",
       "  <thead>\n",
       "    <tr style=\"text-align: right;\">\n",
       "      <th></th>\n",
       "      <th>F</th>\n",
       "      <th>A</th>\n",
       "      <th>C</th>\n",
       "    </tr>\n",
       "  </thead>\n",
       "  <tbody>\n",
       "    <tr>\n",
       "      <th>F</th>\n",
       "      <td>0.000000</td>\n",
       "      <td>1.732051</td>\n",
       "      <td>3.464102</td>\n",
       "    </tr>\n",
       "    <tr>\n",
       "      <th>A</th>\n",
       "      <td>1.732051</td>\n",
       "      <td>0.000000</td>\n",
       "      <td>1.732051</td>\n",
       "    </tr>\n",
       "    <tr>\n",
       "      <th>C</th>\n",
       "      <td>3.464102</td>\n",
       "      <td>1.732051</td>\n",
       "      <td>0.000000</td>\n",
       "    </tr>\n",
       "  </tbody>\n",
       "</table>\n",
       "</div>"
      ],
      "text/plain": [
       "          F         A         C\n",
       "F  0.000000  1.732051  3.464102\n",
       "A  1.732051  0.000000  1.732051\n",
       "C  3.464102  1.732051  0.000000"
      ]
     },
     "execution_count": 18,
     "metadata": {},
     "output_type": "execute_result"
    }
   ],
   "source": [
    "print(\"pdist:\\n\", pdist(v3),\"\\n\")\n",
    "print(\"squareform:\\n\",squareform(pdist(v3)))\n",
    "v3_distmat=pd.DataFrame(squareform(pdist(v3)), columns=v3_df.index, index=v3_df.index)\n",
    "v3_distmat"
   ]
  },
  {
   "cell_type": "markdown",
   "id": "209af09d-0244-407f-aa1e-804b70878705",
   "metadata": {},
   "source": [
    "e o correspondente mapa térmico:"
   ]
  },
  {
   "cell_type": "code",
   "execution_count": 19,
   "id": "9cd71b5b-83ab-45e5-8e40-8c09f9f6692f",
   "metadata": {
    "tags": [
     "hide-input"
    ]
   },
   "outputs": [
    {
     "data": {
      "image/png": "[encoded data removed]",
      "text/plain": [
       "<Figure size 288x288 with 2 Axes>"
      ]
     },
     "metadata": {
      "filenames": {
       "image/png": "/home/frmuno/src/pt-act-parlamentar/parlamento2015-21/_build/jupyter_execute/met_distmat_36_0.png"
      },
      "needs_background": "light"
     },
     "output_type": "display_data"
    }
   ],
   "source": [
    "plt.figure(figsize=(4,4))\n",
    "\n",
    "sns.heatmap(\n",
    "    v3_distmat,\n",
    "    cmap=sns.color_palette(\"Reds_r\"),\n",
    "    linewidth=1,\n",
    "    annot = True,\n",
    "    square =True,\n",
    ")\n",
    "plt.show()\n"
   ]
  },
  {
   "cell_type": "markdown",
   "id": "19c8acc3-0508-426a-bd6a-65d4ce885961",
   "metadata": {},
   "source": [
    "O _clustermap_ apresenta os mesmos valores, mas reordenando colunas e linhas de forma a apresentar o resultado do agrupamento; note-se que, neste caso, não é apresentado nenhum agrupamento entre 2 dos partidos pois todos divergem de forma equidistante, constituindo três grupos separados:"
   ]
  },
  {
   "cell_type": "code",
   "execution_count": 20,
   "id": "6e18dddd-4ef3-4cc4-a661-c29c1070c42a",
   "metadata": {
    "tags": [
     "hide-input"
    ]
   },
   "outputs": [
    {
     "data": {
      "image/png": "[encoded data removed]",
      "text/plain": [
       "<Figure size 288x288 with 4 Axes>"
      ]
     },
     "metadata": {
      "filenames": {
       "image/png": "/home/frmuno/src/pt-act-parlamentar/parlamento2015-21/_build/jupyter_execute/met_distmat_38_0.png"
      },
      "needs_background": "light"
     },
     "output_type": "display_data"
    }
   ],
   "source": [
    "v3_distmat_link = hc.linkage(pdist(v3_df))\n",
    "\n",
    "sns.clustermap(\n",
    "    v3_distmat,\n",
    "    annot = True,\n",
    "    cmap=sns.color_palette(\"Reds_r\"),\n",
    "    linewidth=1,\n",
    "    row_linkage=v3_distmat_link,\n",
    "    col_linkage=v3_distmat_link,\n",
    "    figsize=(4,4)\n",
    ")\n",
    "plt.show()"
   ]
  },
  {
   "cell_type": "markdown",
   "id": "f991e9b3-9beb-4da9-92dd-c57426bc8c91",
   "metadata": {},
   "source": [
    "Estamos agora em $ \\mathbb{R}^3 $, e para visualizar podemos usar uma projecção tridimensional:"
   ]
  },
  {
   "cell_type": "code",
   "execution_count": 21,
   "id": "f4677563-570c-4c84-9681-9000354621b5",
   "metadata": {
    "tags": [
     "hide-input"
    ]
   },
   "outputs": [
    {
     "data": {
      "image/png": "[encoded data removed]",
      "text/plain": [
       "<Figure size 432x288 with 2 Axes>"
      ]
     },
     "metadata": {
      "filenames": {
       "image/png": "/home/frmuno/src/pt-act-parlamentar/parlamento2015-21/_build/jupyter_execute/met_distmat_40_0.png"
      },
      "needs_background": "light"
     },
     "output_type": "display_data"
    }
   ],
   "source": [
    "fig, ax = plt.subplots()\n",
    "ax = fig.add_subplot(111,projection='3d')\n",
    "\n",
    "for x,y,z in zip(v3_df[\"v1\"], v3_df[\"v2\"], v3_df[\"v3\"]):\n",
    "    ax.scatter(x,y,z)\n"
   ]
  },
  {
   "cell_type": "code",
   "execution_count": null,
   "id": "8ba59759-f55f-49b9-a0c7-57416d21d510",
   "metadata": {},
   "outputs": [],
   "source": []
  },
  {
   "cell_type": "markdown",
   "id": "d923f113-2455-4c5b-8349-3beae3abed54",
   "metadata": {},
   "source": [
    "## Mais de três votações, $ n > 3 $\n",
    "\n",
    "A partir daqui coloca-se a questão fundamental: a impossibilidade de visualizar de forma directa a distância para além das três dimensões. A distância existe e segue exactamente os mesmo passos, simplesmente não é passível de visualização, razão pela qual é necessário (agora sim) depender de formas que \"reduzam\" as dimensões e as tornem visualizáveis.\n",
    "\n",
    "Até agora os agrupamentos têm sido sempre iguais pois a distância é sempre linear; vamos neste último caso assumir que o Partido Abstencionista teve uma mudança de posição e passou a votar por vezes a favor e contra, embora mais contra que a favor:"
   ]
  },
  {
   "cell_type": "code",
   "execution_count": 22,
   "id": "f0ed7d35-e040-4dbb-8b30-ac32337ceac2",
   "metadata": {},
   "outputs": [
    {
     "data": {
      "text/html": [
       "<div>\n",
       "<style scoped>\n",
       "    .dataframe tbody tr th:only-of-type {\n",
       "        vertical-align: middle;\n",
       "    }\n",
       "\n",
       "    .dataframe tbody tr th {\n",
       "        vertical-align: top;\n",
       "    }\n",
       "\n",
       "    .dataframe thead th {\n",
       "        text-align: right;\n",
       "    }\n",
       "</style>\n",
       "<table border=\"1\" class=\"dataframe\">\n",
       "  <thead>\n",
       "    <tr style=\"text-align: right;\">\n",
       "      <th></th>\n",
       "      <th>v1</th>\n",
       "      <th>v2</th>\n",
       "      <th>v3</th>\n",
       "      <th>v4</th>\n",
       "      <th>v5</th>\n",
       "      <th>v6</th>\n",
       "      <th>v7</th>\n",
       "      <th>v8</th>\n",
       "      <th>v9</th>\n",
       "      <th>v10</th>\n",
       "    </tr>\n",
       "  </thead>\n",
       "  <tbody>\n",
       "    <tr>\n",
       "      <th>F</th>\n",
       "      <td>1</td>\n",
       "      <td>1</td>\n",
       "      <td>1</td>\n",
       "      <td>1</td>\n",
       "      <td>1</td>\n",
       "      <td>1</td>\n",
       "      <td>1</td>\n",
       "      <td>1</td>\n",
       "      <td>1</td>\n",
       "      <td>1</td>\n",
       "    </tr>\n",
       "    <tr>\n",
       "      <th>A</th>\n",
       "      <td>0</td>\n",
       "      <td>0</td>\n",
       "      <td>0</td>\n",
       "      <td>1</td>\n",
       "      <td>0</td>\n",
       "      <td>-1</td>\n",
       "      <td>0</td>\n",
       "      <td>-1</td>\n",
       "      <td>-1</td>\n",
       "      <td>-1</td>\n",
       "    </tr>\n",
       "    <tr>\n",
       "      <th>C</th>\n",
       "      <td>-1</td>\n",
       "      <td>-1</td>\n",
       "      <td>-1</td>\n",
       "      <td>-1</td>\n",
       "      <td>-1</td>\n",
       "      <td>-1</td>\n",
       "      <td>-1</td>\n",
       "      <td>-1</td>\n",
       "      <td>-1</td>\n",
       "      <td>-1</td>\n",
       "    </tr>\n",
       "  </tbody>\n",
       "</table>\n",
       "</div>"
      ],
      "text/plain": [
       "   v1  v2  v3  v4  v5  v6  v7  v8  v9  v10\n",
       "F   1   1   1   1   1   1   1   1   1    1\n",
       "A   0   0   0   1   0  -1   0  -1  -1   -1\n",
       "C  -1  -1  -1  -1  -1  -1  -1  -1  -1   -1"
      ]
     },
     "execution_count": 22,
     "metadata": {},
     "output_type": "execute_result"
    }
   ],
   "source": [
    "v4=[[1,1,1,1,1,1,1,1,1,1],[0,0,0,1,0,-1,0,-1,-1,-1],[-1,-1,-1,-1,-1,-1,-1,-1,-1,-1]]\n",
    "v4_df = pd.DataFrame(v4, columns=[\"v1\",\"v2\", \"v3\",\"v4\",\"v5\",\"v6\",\"v7\",\"v8\",\"v9\",\"v10\"], index=[\"F\",\"A\", \"C\"])\n",
    "v4_df"
   ]
  },
  {
   "cell_type": "markdown",
   "id": "f7eef283-b479-49db-b453-ddc7289ad83b",
   "metadata": {},
   "source": [
    "A distância calculdada \"manualmente\":"
   ]
  },
  {
   "cell_type": "code",
   "execution_count": 23,
   "id": "0cfce024-0990-413c-9b9b-0652f0b3ea4d",
   "metadata": {},
   "outputs": [
    {
     "name": "stdout",
     "output_type": "stream",
     "text": [
      "4.58257569495584\n",
      "6.324555320336759\n",
      "3.0\n"
     ]
    }
   ],
   "source": [
    "print(math.sqrt(sum((px - qx) ** 2.0 for px, qx in zip(v4_df.loc[\"F\"],v4_df.loc[\"A\"]))))\n",
    "print(math.sqrt(sum((px - qx) ** 2.0 for px, qx in zip(v4_df.loc[\"F\"],v4_df.loc[\"C\"]))))\n",
    "print(math.sqrt(sum((px - qx) ** 2.0 for px, qx in zip(v4_df.loc[\"A\"],v4_df.loc[\"C\"]))))"
   ]
  },
  {
   "cell_type": "markdown",
   "id": "fbe4a871-a031-469d-b992-c4a37f4b895f",
   "metadata": {},
   "source": [
    "... e o cálculo via `pdist` e a  matriz de distância:"
   ]
  },
  {
   "cell_type": "code",
   "execution_count": 24,
   "id": "c23624ff-5229-45f4-97dc-37cb3a636cec",
   "metadata": {},
   "outputs": [
    {
     "name": "stdout",
     "output_type": "stream",
     "text": [
      "pdist:\n",
      " [4.58257569 6.32455532 3.        ] \n",
      "\n",
      "squareform:\n",
      " [[0.         4.58257569 6.32455532]\n",
      " [4.58257569 0.         3.        ]\n",
      " [6.32455532 3.         0.        ]]\n"
     ]
    },
    {
     "data": {
      "text/html": [
       "<div>\n",
       "<style scoped>\n",
       "    .dataframe tbody tr th:only-of-type {\n",
       "        vertical-align: middle;\n",
       "    }\n",
       "\n",
       "    .dataframe tbody tr th {\n",
       "        vertical-align: top;\n",
       "    }\n",
       "\n",
       "    .dataframe thead th {\n",
       "        text-align: right;\n",
       "    }\n",
       "</style>\n",
       "<table border=\"1\" class=\"dataframe\">\n",
       "  <thead>\n",
       "    <tr style=\"text-align: right;\">\n",
       "      <th></th>\n",
       "      <th>F</th>\n",
       "      <th>A</th>\n",
       "      <th>C</th>\n",
       "    </tr>\n",
       "  </thead>\n",
       "  <tbody>\n",
       "    <tr>\n",
       "      <th>F</th>\n",
       "      <td>0.000000</td>\n",
       "      <td>4.582576</td>\n",
       "      <td>6.324555</td>\n",
       "    </tr>\n",
       "    <tr>\n",
       "      <th>A</th>\n",
       "      <td>4.582576</td>\n",
       "      <td>0.000000</td>\n",
       "      <td>3.000000</td>\n",
       "    </tr>\n",
       "    <tr>\n",
       "      <th>C</th>\n",
       "      <td>6.324555</td>\n",
       "      <td>3.000000</td>\n",
       "      <td>0.000000</td>\n",
       "    </tr>\n",
       "  </tbody>\n",
       "</table>\n",
       "</div>"
      ],
      "text/plain": [
       "          F         A         C\n",
       "F  0.000000  4.582576  6.324555\n",
       "A  4.582576  0.000000  3.000000\n",
       "C  6.324555  3.000000  0.000000"
      ]
     },
     "execution_count": 24,
     "metadata": {},
     "output_type": "execute_result"
    }
   ],
   "source": [
    "print(\"pdist:\\n\", pdist(v4),\"\\n\")\n",
    "print(\"squareform:\\n\",squareform(pdist(v4)))\n",
    "v4_distmat=pd.DataFrame(squareform(pdist(v4)), columns=v4_df.index, index=v4_df.index)\n",
    "v4_distmat"
   ]
  },
  {
   "cell_type": "markdown",
   "id": "9aaf4b75-0598-4d96-8266-54183a49225a",
   "metadata": {},
   "source": [
    "O mapa térmico:"
   ]
  },
  {
   "cell_type": "code",
   "execution_count": 25,
   "id": "8c1b513e-842f-47e3-b75b-ff6f5bf9cfd9",
   "metadata": {
    "tags": [
     "hide-input"
    ]
   },
   "outputs": [
    {
     "data": {
      "image/png": "[encoded data removed]",
      "text/plain": [
       "<Figure size 288x288 with 2 Axes>"
      ]
     },
     "metadata": {
      "filenames": {
       "image/png": "/home/frmuno/src/pt-act-parlamentar/parlamento2015-21/_build/jupyter_execute/met_distmat_49_0.png"
      },
      "needs_background": "light"
     },
     "output_type": "display_data"
    }
   ],
   "source": [
    "plt.figure(figsize=(4,4))\n",
    "\n",
    "sns.heatmap(\n",
    "    v4_distmat,\n",
    "    cmap=sns.color_palette(\"Reds_r\"),\n",
    "    linewidth=1,\n",
    "    annot = True,\n",
    "    square =True,\n",
    ")\n",
    "plt.show()\n"
   ]
  },
  {
   "cell_type": "markdown",
   "id": "86501bc3-11ba-4f05-8e92-bd878368082a",
   "metadata": {},
   "source": [
    "... e o dendograma, já apresentando um agrupamento com base na maior aproximação com base no registo de votação:"
   ]
  },
  {
   "cell_type": "code",
   "execution_count": 26,
   "id": "b736e3a4-cb79-498b-92e7-a819dded5bee",
   "metadata": {
    "tags": [
     "hide-input"
    ]
   },
   "outputs": [
    {
     "data": {
      "image/png": "[encoded data removed]",
      "text/plain": [
       "<Figure size 288x288 with 4 Axes>"
      ]
     },
     "metadata": {
      "filenames": {
       "image/png": "/home/frmuno/src/pt-act-parlamentar/parlamento2015-21/_build/jupyter_execute/met_distmat_51_0.png"
      },
      "needs_background": "light"
     },
     "output_type": "display_data"
    }
   ],
   "source": [
    "v4_distmat_link = hc.linkage(pdist(v4_df), method=\"ward\")\n",
    "\n",
    "sns.clustermap(\n",
    "    v4_distmat,\n",
    "    annot = True,\n",
    "    cmap=sns.color_palette(\"Reds_r\"),\n",
    "    linewidth=1,\n",
    "    row_linkage=v4_distmat_link,\n",
    "    col_linkage=v4_distmat_link,\n",
    "    figsize=(4,4)\n",
    ")\n",
    "plt.show()"
   ]
  },
  {
   "cell_type": "markdown",
   "id": "c43907b2-f39e-4410-bbdd-55b89f569cb9",
   "metadata": {},
   "source": [
    "E aqui pode ser observado o resultado (e a utilidade) do cálculo das distâncias e da utilização de _clustering_: ao observarmos os votos acima conseguimos, intuitivamente, determinar que o partido do _A_ está mais próximo do _C_, mas fazer o mesmo para 100, 1000 ou 10000 votações seria manifestamente mais difícil."
   ]
  }
 ],
 "metadata": {
  "kernelspec": {
   "display_name": "Python 3 (ipykernel)",
   "language": "python",
   "name": "python3"
  },
  "language_info": {
   "codemirror_mode": {
    "name": "ipython",
    "version": 3
   },
   "file_extension": ".py",
   "mimetype": "text/x-python",
   "name": "python",
   "nbconvert_exporter": "python",
   "pygments_lexer": "ipython3",
   "version": "3.8.12"
  }
 },
 "nbformat": 4,
 "nbformat_minor": 5
}