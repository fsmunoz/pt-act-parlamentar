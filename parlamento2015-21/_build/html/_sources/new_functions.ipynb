{
 "cells": [
  {
   "cell_type": "code",
   "execution_count": null,
   "id": "e5b18cf6-5a7c-44c8-ad63-8078150364f6",
   "metadata": {},
   "outputs": [],
   "source": []
  },
  {
   "cell_type": "code",
   "execution_count": null,
   "id": "1325bb85-6b74-4cf6-9731-53a631ab3444",
   "metadata": {},
   "outputs": [],
   "source": [
    "from IPython.display import display\n",
    "from matplotlib.colors import ListedColormap\n",
    "import matplotlib.pyplot as plt\n",
    "import matplotlib as mpl\n",
    "import seaborn as sns\n",
    "from matplotlib import cm\n",
    "ndf = pd.DataFrame()\n",
    "#submissions_ini_nu = submissions_ini.loc[submissions_ini['unanime'] != \"unanime\"]\n",
    "gpsubs = submissions_ini\n",
    "cmap=ListedColormap(sns.color_palette(\"pastel\").as_hex())\n",
    "colors=[\"#fdfd96\",  \"black\",\"#ff6961\",\"#77dd77\", ]\n",
    "cmap = ListedColormap(colors)\n",
    "\n",
    "spn = 0\n",
    "fig, axes = plt.subplots(nrows=4, ncols=3, figsize=(20, 30))\n",
    "axes = axes.ravel()\n",
    "for party in parties:\n",
    "    sns.set_style(\"whitegrid\")\n",
    "    subp = gpsubs[gpsubs['GP'] == party]\n",
    "    sp = subp[parties].apply(pd.Series.value_counts).fillna(0).drop([party],axis=1)\n",
    "    sp = sp.sort_values(by=['Favor','Abstenção','Contra'], ascending=False, axis=1)\n",
    "    d = sp.T\n",
    "    #f = plt.figure()\n",
    "    plt.title(party)\n",
    "    #d.plot(kind='bar', ax=f.gca(), stacked=True, title=party, colormap=cmap, ax=spn)\n",
    "    d.plot(kind='bar', stacked=True, title=party, colormap=cmap, ax=axes[spn])\n",
    "    #plt.legend(loc='center left',  bbox_to_anchor=(0.7, 0.9),)\n",
    "    axes[spn].get_legend().remove()\n",
    "    spn += 1\n",
    "\n",
    "axes[11].set_axis_off()\n",
    "plt.show()"
   ]
  },
  {
   "cell_type": "code",
   "execution_count": null,
   "id": "2ae0b064-b081-49dc-9448-4c63ce6554eb",
   "metadata": {},
   "outputs": [],
   "source": [
    "political_distance_matrix(l13_votes, parties)"
   ]
  },
  {
   "cell_type": "code",
   "execution_count": null,
   "id": "307277e0-e4d6-4f44-802c-5a29afda87a3",
   "metadata": {},
   "outputs": [],
   "source": [
    "political_distance_clustermap(l13_votes, parties,\"Clustermap\")"
   ]
  },
  {
   "cell_type": "code",
   "execution_count": null,
   "id": "eb7c7cec-d5b8-446b-9625-e443545b1c7c",
   "metadata": {},
   "outputs": [],
   "source": [
    "political_distance_clustermap(l14_votes, l14_parties,\"Clustermap\")"
   ]
  },
  {
   "cell_type": "code",
   "execution_count": null,
   "id": "99c92c05-d853-4281-9b6e-54adccbf6ca0",
   "metadata": {},
   "outputs": [],
   "source": [
    "political_dendogram(l13_votes, parties,\"Clustermap\")"
   ]
  },
  {
   "cell_type": "code",
   "execution_count": null,
   "id": "6c71bc1e-499a-4957-8a22-8b7516778fb4",
   "metadata": {},
   "outputs": [],
   "source": [
    "#df[(df['date'] > '2013-01-01') & (df['date'] < '2013-02-01')]\n",
    "\n",
    "for year in [2015,2016,2017,2018,2019]:\n",
    "    y_votes=l13_votes[(l13_votes['data'] > '{}-01-01'.format(2015)) & (l13_votes['data'] < '{}-01-01'.format(year+1))]\n",
    "    political_distance_clustermap(y_votes, parties,\"Clustermap for Year {}\".format(year))"
   ]
  },
  {
   "cell_type": "code",
   "execution_count": null,
   "id": "4106bda9-8e47-4025-a670-dd3f6e3a63cc",
   "metadata": {},
   "outputs": [],
   "source": [
    "#df[(df['date'] > '2013-01-01') & (df['date'] < '2013-02-01')]\n",
    "\n",
    "for year in [2019, 2020, 2021]:\n",
    "    y_votes=l14_votes[(l14_votes['data'] > '{}-01-01'.format(year)) & (l14_votes['data'] < '{}-01-01'.format(year+1))]\n",
    "    political_distance_clustermap(y_votes, l14_parties,\"Clustermap for Year {}\".format(year))\n"
   ]
  },
  {
   "cell_type": "code",
   "execution_count": null,
   "id": "b942a3c5-c796-4a0a-987f-af0e1e146749",
   "metadata": {
    "tags": [
     "toggle"
    ]
   },
   "outputs": [],
   "source": [
    "## Display the heatmap of the distance matrix\n",
    "\n",
    "fig = plt.figure(figsize=(8,8))\n",
    "ax = fig.add_subplot()\n",
    "\n",
    "sns.heatmap(\n",
    "    l13_distmat,\n",
    "    cmap=sns.color_palette(\"Reds_r\"),\n",
    "    linewidth=1,\n",
    "    annot = True,\n",
    "    square =True,\n",
    "    cbar_kws={\"shrink\": 0.8})\n",
    "plt.title('Portuguese Parliament 13th Legislature, Distance Matrix')\n",
    "\n",
    "plt.show()"
   ]
  },
  {
   "cell_type": "code",
   "execution_count": null,
   "id": "f8a7ecad-40cc-43f2-96a2-87bc9d71db68",
   "metadata": {
    "tags": [
     "toggle"
    ]
   },
   "outputs": [],
   "source": [
    "## Perform hierarchical linkage on the distance matrix using Ward's method.\n",
    "l13_distmat_link = hc.linkage(l13_pwdist, method=\"ward\", optimal_ordering=True )\n",
    "\n",
    "sns.clustermap(\n",
    "    l13_distmat,\n",
    "    annot = True,\n",
    "    cmap=sns.color_palette(\"Reds_r\"),\n",
    "    linewidth=1,\n",
    "    #standard_scale=1,\n",
    "    row_linkage=l13_distmat_link,\n",
    "    col_linkage=l13_distmat_link,\n",
    "    figsize=(8,8)).fig.suptitle('Portuguese Parliament 13th Legislature, Clustermap')\n",
    "\n",
    "plt.show()"
   ]
  },
  {
   "cell_type": "code",
   "execution_count": null,
   "id": "41f8db7e-c102-4e9f-a110-819c98db1d15",
   "metadata": {
    "tags": [
     "toggle"
    ]
   },
   "outputs": [],
   "source": [
    "from scipy.cluster.hierarchy import dendrogram\n",
    "fig = plt.figure(figsize=(8,5))\n",
    "dendrogram(l13_distmat_link, labels=l13_votes_hmn.columns)\n",
    "\n",
    "plt.title(\"Portuguese Parliament 14th Legislature, Dendogram\")\n",
    "plt.show()"
   ]
  },
  {
   "cell_type": "code",
   "execution_count": null,
   "id": "3b00fea1-a77f-4953-884c-dc45a2a85ce0",
   "metadata": {
    "tags": [
     "remove-cell"
    ]
   },
   "outputs": [],
   "source": [
    "l13_inis = ini_to_df_ini(l13_ini_tree)\n",
    "l14_inis = ini_to_df_ini(l14_ini_tree)\n"
   ]
  },
  {
   "cell_type": "code",
   "execution_count": null,
   "id": "b297b4de-b112-4c5c-9bd6-ca44d8949d34",
   "metadata": {
    "tags": [
     "remove-cell"
    ]
   },
   "outputs": [],
   "source": [
    "l14_inis"
   ]
  },
  {
   "cell_type": "code",
   "execution_count": null,
   "id": "86408649-2d10-4236-b8f7-07ebb165c39e",
   "metadata": {
    "tags": [
     "remove-cell"
    ]
   },
   "outputs": [],
   "source": [
    "init_ct = pd.crosstab(l13_inis.iniAutorGruposParlamentares,l13_inis.iniTipo)\n",
    "init_ct14 = pd.crosstab(l14_inis.iniAutorGruposParlamentares,l14_inis.iniTipo)\n"
   ]
  },
  {
   "cell_type": "code",
   "execution_count": null,
   "id": "87343187-92aa-480d-a144-bd8b66b51c57",
   "metadata": {
    "tags": [
     "remove-cell"
    ]
   },
   "outputs": [],
   "source": [
    "import plotly.express as px\n",
    "\n",
    "long_df = px.data.medals_long()\n",
    "\n",
    "fig = px.bar(init_ct, template=\"plotly_white\")\n",
    "fig.show()"
   ]
  },
  {
   "cell_type": "code",
   "execution_count": null,
   "id": "49a1c13f-3f0c-4e3a-83ac-b67e3e428bf8",
   "metadata": {
    "tags": [
     "remove-cell"
    ]
   },
   "outputs": [],
   "source": [
    "import seaborn as sns\n",
    "#sns.set(font=\"EB Garamond\")\n",
    "\n",
    "#sns.barplot(init_ct, x=\"iniAutorGruposParlamentares\", y=\"iniTipo\")"
   ]
  },
  {
   "cell_type": "code",
   "execution_count": null,
   "id": "41d149b8-f623-4c13-a347-2b60a7843b5a",
   "metadata": {
    "tags": []
   },
   "outputs": [],
   "source": [
    "init_ct14"
   ]
  },
  {
   "cell_type": "code",
   "execution_count": null,
   "id": "1ed4104c-c8e3-48da-9d79-2e61af5bbf84",
   "metadata": {
    "tags": [
     "remove-cell"
    ]
   },
   "outputs": [],
   "source": [
    "import plotly.express as px\n",
    "\n",
    "long_df = px.data.medals_long()\n",
    "\n",
    "fig = px.bar(init_ct14, template=\"plotly_white\")\n",
    "fig.show()"
   ]
  },
  {
   "cell_type": "code",
   "execution_count": null,
   "id": "a33f864f-074c-4ba1-80d1-103beb8c8fd9",
   "metadata": {},
   "outputs": [],
   "source": [
    "import pandas as pd\n",
    "from itables import show\n",
    "import qgrid\n",
    "#l13_ini_df = pd.DataFrame(l13_init_list)\n",
    "#print(ini_df.shape)\n",
    "l13_ini_df = ini_to_df(l13_ini_tree)\n",
    "\n",
    "widget = qgrid.show_grid(l13_ini_df)\n",
    "widget"
   ]
  },
  {
   "cell_type": "code",
   "execution_count": null,
   "id": "7bd923b9-6c1e-4170-9e8c-eba8a89ffbaf",
   "metadata": {},
   "outputs": [],
   "source": [
    "l13_ini_df"
   ]
  },
  {
   "cell_type": "code",
   "execution_count": null,
   "id": "009402cc-dadf-4165-b9db-0d03464c63ac",
   "metadata": {},
   "outputs": [],
   "source": [
    "l14_ini_df = ini_to_df(l14_ini_tree)\n",
    "## Copy Livre voting record to new aggregate columns...\n",
    "l14_ini_df[\"L/JKM\"] = l14_ini_df[\"L\"]\n",
    "## ... and fill the NAs with JKM voting record.\n",
    "l14_ini_df[\"L/JKM\"] = l14_ini_df[\"L/JKM\"].fillna(l14_ini_df[\"Joacine Katar Moreira (Ninsc)\"])\n",
    "\n",
    "#print(l14_ini_df[[\"descricao\",\"L\",\"Joacine Katar Moreira (Ninsc)\",\"L/JKM\"]])\n",
    "## Copy PAN voting record to new aggregate columns...\n",
    "l14_ini_df[\"PAN/CR\"] = l14_ini_df[\"PAN\"]\n",
    "## ... and update/replace with CR voting where it exists\n",
    "l14_ini_df[\"PAN/CR\"].update(l14_ini_df[\"Cristina Rodrigues (Ninsc)\"])\n",
    "#l14_ini_df[\"PAN/CR\"] = l14_ini_df[\"PAN/CR\"].fillna(l14_ini_df[\"Cristina Rodrigues (Ninsc)\"])\n",
    "#print(l14_ini_df[[\"id\",\"descricao\",\"PAN\",\"Cristina Rodrigues (Ninsc)\",\"PAN/CR\"]])\n",
    "l14_votes = l14_ini_df.drop([\"tipoReuniao\"],axis=1)\n"
   ]
  },
  {
   "cell_type": "code",
   "execution_count": null,
   "id": "af67a0d4-887f-43d3-a520-8af30fb31eab",
   "metadata": {},
   "outputs": [],
   "source": [
    "from pivottablejs import pivot_ui\n",
    "\n",
    "pivot_ui(votes[parties.insert(0,\"resultado\")], outfile_path=\"l13_pivot.html\")\n",
    "display(HTML(\"l13_pivot.html\"))\n",
    "pivot_ui(votes[parties.insert(0,\"resultado\")])"
   ]
  }
 ],
 "metadata": {
  "kernelspec": {
   "display_name": "Python 3 (ipykernel)",
   "language": "python",
   "name": "python3"
  },
  "language_info": {
   "codemirror_mode": {
    "name": "ipython",
    "version": 3
   },
   "file_extension": ".py",
   "mimetype": "text/x-python",
   "name": "python",
   "nbconvert_exporter": "python",
   "pygments_lexer": "ipython3",
   "version": "3.8.12"
  }
 },
 "nbformat": 4,
 "nbformat_minor": 5
}
