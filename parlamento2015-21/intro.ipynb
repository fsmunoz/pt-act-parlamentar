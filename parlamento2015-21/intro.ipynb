{
 "cells": [
  {
   "cell_type": "markdown",
   "id": "b0a7f1cb-612a-4824-9d08-27a1b602d80e",
   "metadata": {},
   "source": [
    "# Início\n",
    "\n",
    "```{epigraph}\n",
    "E por isso o dizem na _Turba Philosophorum_, que qualquer que seja a cor que vem após o negro é louvável, pois é o início da Obra.\n",
    "\n",
    "-- Michael Meiers, «Atalanta Fugiens»\n",
    "```\n"
   ]
  },
  {
   "cell_type": "markdown",
   "id": "1884bb0b-6697-472d-a451-c67d7c0c7cb8",
   "metadata": {
    "tags": [
     "remove-cell"
    ]
   },
   "source": [
    ":::{margin}\n",
    "```{image} ./_images/atalanta-fugiens-emblem-12.jpg\n",
    ":alt: Atalanta Fugiens, 12\n",
    ":width: 200px\n",
    ":align: center\n",
    "```\n",
    ":::"
   ]
  },
  {
   "cell_type": "markdown",
   "id": "6f5599d2-5769-4f20-9ba1-0e6928ae8a6e",
   "metadata": {},
   "source": [
    "Com quem vota cada um dos partidos? Que relações se podem extrair dos padrões de votação - e apenas das votações? Observar-se-á um resultado enquadrável nos conceitos de Esquerda e Direita ou, pelo contrário, emergem dimensões diferentes?\n",
    "\n",
    "Nestas páginas iremos obter, processar e analisar todo o histórico de votações do período 2015-2021, aplicando um conjunto de métricas\n",
    "\n",
    "* A obtenção dos dados das votações realizadas com base nos dados abertos disponibilizados pela página oficial do Parlamento.\n",
    "* O tratamento dos dados de forma à criação de uma tabela consistente e mais facilmente analisável\n",
    "* A criação de diagramas e tabelas de agrupamento, matrizes de distância e afinidade e mapas bi e tridimensionais de posicionamento relativos dos partidos.\n",
    "\n",
    "Um factor que define a metodologia utilizada é a _utilização exclusiva dos dados das votações_, e apenas esses dados; não é feita nenhuma valorização \"manual\" das votações, sendo que o resultado final é uma resposta a uma questão simples: qual a relação dos vários partidos tendo em conta não o seu programa, não as suas afirmações públicas, mas o seu comportamento concreto naquilo que define a sua actividade parlamentar - as votações.\n",
    "\n",
    "A utilidade deste tipo de análise em ciência política é reconhecida {cite:p}`filhoClusterAnalysisPolitical2014` e tem sido aplicada a vários registos de votações; a análise presente tem como principal diferença o ser efectuado sobre as votações de partidos e não, como é mais comum na bibliografia consultada, a deputados individuais.\n",
    "\n",
    "## Um novo olhar sobre um momento único\n",
    "\n",
    "Esta análise serve, também, para um olhar adicional a uma experiência governativa que, independentemente das opiniões sobre o seu mérito, foi inovadora em vários aspectos: a não formação de governo pela coligação mais votada e, sobretudo, a formação de um governo PS sustentado com apoio (variável, e também isso será interessante analisar com base nos dados) dos partidos à sua Esquerda foi uma ruptura assinalável com o que tinha sido a \n",
    "\n",
    "Se a mera possibilidade desta solução (que passaria a ser comumente chamada de _geringonça_ {cite:p}`valenteGeringonca2015`) foi posta em causa por vários sectores da sociedade (incluíndo orgãos de soberania), mais ainda divergiram os prognósticos em relação à sua durabilidade: dias ou meses para alguns, alguns anos para outros, até visões de prolongamento indefinido pelas décadas após as primeiras aprovações de orçamentos.\n",
    "\n",
    "Este trabalho é uma actualização do anteriormente realizado, para um período de tempo menor, e que introduziu uma abordagem específica para a análise da proximidade, distância e suporte mútuo entre todos os grupos parlamentares e deputados independentes presentes na Assembleia da República."
   ]
  },
  {
   "cell_type": "code",
   "execution_count": null,
   "id": "bcea23cd-f3d2-44ce-91e2-2f78ae0f8efc",
   "metadata": {},
   "outputs": [],
   "source": []
  }
 ],
 "metadata": {
  "kernelspec": {
   "display_name": "Python 3 (ipykernel)",
   "language": "python",
   "name": "python3"
  },
  "language_info": {
   "codemirror_mode": {
    "name": "ipython",
    "version": 3
   },
   "file_extension": ".py",
   "mimetype": "text/x-python",
   "name": "python",
   "nbconvert_exporter": "python",
   "pygments_lexer": "ipython3",
   "version": "3.8.12"
  }
 },
 "nbformat": 4,
 "nbformat_minor": 5
}
