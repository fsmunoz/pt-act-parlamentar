{
 "cells": [
  {
   "cell_type": "markdown",
   "id": "f874a01c-4ff6-42ad-8452-693ff17e290e",
   "metadata": {},
   "source": [
    "# Em maior detalhe"
   ]
  },
  {
   "cell_type": "markdown",
   "id": "af5890c3-3a9b-4314-b370-53b2d13c812e",
   "metadata": {},
   "source": [
    "Nesta secção veremos em maior detalhe o que está por trás de muitos dos processos e análises efectuados."
   ]
  },
  {
   "cell_type": "code",
   "execution_count": null,
   "id": "91383213-7d6a-4bc1-ad0e-b75a2de30b1b",
   "metadata": {},
   "outputs": [],
   "source": []
  }
 ],
 "metadata": {
  "kernelspec": {
   "display_name": "Python 3 (ipykernel)",
   "language": "python",
   "name": "python3"
  },
  "language_info": {
   "codemirror_mode": {
    "name": "ipython",
    "version": 3
   },
   "file_extension": ".py",
   "mimetype": "text/x-python",
   "name": "python",
   "nbconvert_exporter": "python",
   "pygments_lexer": "ipython3",
   "version": "3.8.12"
  }
 },
 "nbformat": 4,
 "nbformat_minor": 5
}
